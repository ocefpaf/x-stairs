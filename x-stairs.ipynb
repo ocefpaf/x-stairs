{
 "cells": [
  {
   "cell_type": "code",
   "execution_count": 1,
   "metadata": {},
   "outputs": [],
   "source": [
    "from atmos_functions import *\n",
    "import xarray as xr\n",
    "import odvc\n",
    "from collections import OrderedDict\n",
    "\n",
    "url_g1=\"http://tds.marine.rutgers.edu/thredds/dodsC/roms/espresso/2013_da/avg/ESPRESSO_Real-Time_v2_Averages_Best\"\n",
    "ds_g1 = xr.open_dataset(url_g1)\n",
    "ds_g1 = ds_g1.chunk({})\n",
    "\n",
    "url_g2 = \"http://tds.marine.rutgers.edu/thredds/dodsC/roms/doppio/2017_da/avg/Averages_Best\"\n",
    "ds_g2 = xr.open_dataset(url_g2)\n",
    "# Turn on chunking to activate dask and parallelize read/write\n",
    "ds_g2 = ds_g2.chunk({})"
   ]
  },
  {
   "cell_type": "code",
   "execution_count": 2,
   "metadata": {},
   "outputs": [],
   "source": [
    "def filter_by(self, **kwargs):\n",
    "    selection = []\n",
    "    for var_name, variable in self.variables.items():\n",
    "        has_value_flag = False\n",
    "        for attr_name, pattern in kwargs.items():\n",
    "            attr_value = variable.attrs.get(attr_name)\n",
    "            if ((callable(pattern) and pattern(attr_value))\n",
    "                    or attr_value == pattern):\n",
    "                has_value_flag = True\n",
    "            else:\n",
    "                has_value_flag = False\n",
    "                break\n",
    "        if has_value_flag is True:\n",
    "            selection.append(var_name)\n",
    "    return self[selection]"
   ]
  },
  {
   "cell_type": "code",
   "execution_count": 3,
   "metadata": {},
   "outputs": [],
   "source": [
    "def get_formula_terms(var):\n",
    "    formula_terms = OrderedDict()\n",
    "    var = var.attrs.get(\"formula_terms\")\n",
    "    terms = [x.strip(\":\") for x in var.split()]\n",
    "    for k, v in zip(terms[::2], terms[1::2]):\n",
    "        formula_terms.update({k: v})\n",
    "    return formula_terms"
   ]
  },
  {
   "cell_type": "code",
   "execution_count": 4,
   "metadata": {},
   "outputs": [],
   "source": [
    "S = filter_by(ds_g2, standard_name=\"ocean_s_coordinate_g2\")  # need to fix filter_by to find the coords\n",
    "S = S[\"s_rho\"]  # need to find this automagically\n",
    "\n",
    "map_s = get_formula_terms(S)"
   ]
  },
  {
   "cell_type": "code",
   "execution_count": 5,
   "metadata": {},
   "outputs": [],
   "source": [
    "my_map_s = {k.lower(): ds_g2[map_s[k]] for k, v in map_s.items()}"
   ]
  },
  {
   "cell_type": "code",
   "execution_count": 6,
   "metadata": {},
   "outputs": [
    {
     "data": {
      "text/plain": [
       "<xarray.DataArray (time: 669, eta_rho: 106, xi_rho: 242, s_rho: 40)>\n",
       "dask.array<shape=(669, 106, 242, 40), dtype=float64, chunksize=(669, 106, 242, 40)>\n",
       "Coordinates:\n",
       "    lon_rho   (eta_rho, xi_rho) float64 dask.array<shape=(106, 242), chunksize=(106, 242)>\n",
       "    lat_rho   (eta_rho, xi_rho) float64 dask.array<shape=(106, 242), chunksize=(106, 242)>\n",
       "  * time      (time) datetime64[ns] 2017-11-02T12:00:00 ... 2019-09-01T12:00:00\n",
       "    time_run  (time) datetime64[ns] dask.array<shape=(669,), chunksize=(669,)>\n",
       "  * s_rho     (s_rho) float64 -0.9875 -0.9625 -0.9375 ... -0.0375 -0.0125\n",
       "Dimensions without coordinates: eta_rho, xi_rho"
      ]
     },
     "execution_count": 6,
     "metadata": {},
     "output_type": "execute_result"
    }
   ],
   "source": [
    "z = odvc.ocean_s_coordinate_g2(**my_map_s)\n",
    "z"
   ]
  },
  {
   "cell_type": "code",
   "execution_count": null,
   "metadata": {},
   "outputs": [],
   "source": []
  }
 ],
 "metadata": {
  "kernelspec": {
   "display_name": "Python [conda env:pangeo1]",
   "language": "python",
   "name": "conda-env-pangeo1-py"
  },
  "language_info": {
   "codemirror_mode": {
    "name": "ipython",
    "version": 3
   },
   "file_extension": ".py",
   "mimetype": "text/x-python",
   "name": "python",
   "nbconvert_exporter": "python",
   "pygments_lexer": "ipython3",
   "version": "3.6.7"
  }
 },
 "nbformat": 4,
 "nbformat_minor": 4
}
